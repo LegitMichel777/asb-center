{
 "cells": [
  {
   "cell_type": "code",
   "execution_count": 1,
   "source": [
    "import csv"
   ],
   "outputs": [],
   "metadata": {}
  },
  {
   "cell_type": "code",
   "execution_count": 2,
   "source": [
    "csvData = [];\n",
    "with open(\"/Users/legitmichel777/Downloads/High School Name List.csv\") as file:\n",
    "    csvFile = csv.reader(file)\n",
    "    for lines in csvFile:\n",
    "        csvData.append(lines)"
   ],
   "outputs": [],
   "metadata": {}
  },
  {
   "cell_type": "code",
   "execution_count": 3,
   "source": [
    "for i in range(len(csvData)):\n",
    "    studentGradeClass = csvData[i][-1]\n",
    "    studentGrade = studentGradeClass[:studentGradeClass.find('(')]\n",
    "    studentClass = studentGradeClass[studentGradeClass.find('(')+1:-1]\n",
    "    csvData[i]=csvData[i][:-1]\n",
    "    csvData[i].append(studentGrade)\n",
    "    csvData[i].append(studentClass)"
   ],
   "outputs": [],
   "metadata": {}
  },
  {
   "cell_type": "code",
   "execution_count": 4,
   "source": [
    "fields = ['chineseName', 'englishName', 'nickname', 'grade', 'class']\n",
    "with open('formatted_namelist.csv', 'w') as csvfile:\n",
    "    csvwriter = csv.writer(csvfile)\n",
    "    csvwriter.writerow(fields)\n",
    "    csvwriter.writerows(csvData)"
   ],
   "outputs": [],
   "metadata": {}
  }
 ],
 "metadata": {
  "orig_nbformat": 4,
  "language_info": {
   "name": "python",
   "version": "3.7.7",
   "mimetype": "text/x-python",
   "codemirror_mode": {
    "name": "ipython",
    "version": 3
   },
   "pygments_lexer": "ipython3",
   "nbconvert_exporter": "python",
   "file_extension": ".py"
  },
  "kernelspec": {
   "name": "python3",
   "display_name": "Python 3.7.7 64-bit ('base': conda)"
  },
  "interpreter": {
   "hash": "1163c1bc1a839640b8d14024ef60b7561c6d1fd43f27910ef4ececb0505cd7d1"
  }
 },
 "nbformat": 4,
 "nbformat_minor": 2
}